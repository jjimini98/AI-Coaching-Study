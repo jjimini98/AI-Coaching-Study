{
 "cells": [
  {
   "cell_type": "markdown",
   "metadata": {},
   "source": [
    "## **Week 2 팀미션** \n"
   ]
  },
  {
   "cell_type": "markdown",
   "metadata": {},
   "source": [
    "#### 1. Matplotlib\n",
    "파이썬의 대표적 시각화 도구 라이브러리인 matplotlib의 기본 사용법에 대해 숙지하고, **matplotlib에서 사용되는 여러 graph들에 대해 조사해 보고, 해당 graph들에 어느 데이터가 실무에서 적합하게 쓰일지 조사해 보자.**\n",
    "\n",
    "\n",
    "\n",
    "- 사용한 데이터셋 : [Billboard Hits Songs Dataset](https://www.kaggle.com/datasets/dem0nking/billboard-hits-songs-dataset\n"
   ]
  },
  {
   "cell_type": "code",
   "execution_count": 1,
   "metadata": {},
   "outputs": [],
   "source": [
    "import pandas as pd \n",
    "import matplotlib.pyplot as plt \n",
    "from collections import Counter"
   ]
  },
  {
   "cell_type": "code",
   "execution_count": 2,
   "metadata": {},
   "outputs": [],
   "source": [
    "data = pd.read_csv(\"Iconic_Songs_Dataset.csv\")"
   ]
  },
  {
   "cell_type": "code",
   "execution_count": 3,
   "metadata": {},
   "outputs": [
    {
     "name": "stdout",
     "output_type": "stream",
     "text": [
      "<class 'pandas.core.frame.DataFrame'>\n",
      "RangeIndex: 100 entries, 0 to 99\n",
      "Data columns (total 7 columns):\n",
      " #   Column       Non-Null Count  Dtype \n",
      "---  ------       --------------  ----- \n",
      " 0   Title        100 non-null    object\n",
      " 1   Artist       100 non-null    object\n",
      " 2   Genre        100 non-null    object\n",
      " 3   ReleaseDate  100 non-null    object\n",
      " 4   Duration     100 non-null    object\n",
      " 5   Album        98 non-null     object\n",
      " 6   Popularity   100 non-null    int64 \n",
      "dtypes: int64(1), object(6)\n",
      "memory usage: 5.6+ KB\n"
     ]
    }
   ],
   "source": [
    "data.info()"
   ]
  },
  {
   "cell_type": "code",
   "execution_count": 4,
   "metadata": {},
   "outputs": [
    {
     "data": {
      "text/html": [
       "<div>\n",
       "<style scoped>\n",
       "    .dataframe tbody tr th:only-of-type {\n",
       "        vertical-align: middle;\n",
       "    }\n",
       "\n",
       "    .dataframe tbody tr th {\n",
       "        vertical-align: top;\n",
       "    }\n",
       "\n",
       "    .dataframe thead th {\n",
       "        text-align: right;\n",
       "    }\n",
       "</style>\n",
       "<table border=\"1\" class=\"dataframe\">\n",
       "  <thead>\n",
       "    <tr style=\"text-align: right;\">\n",
       "      <th></th>\n",
       "      <th>Title</th>\n",
       "      <th>Artist</th>\n",
       "      <th>Genre</th>\n",
       "      <th>ReleaseDate</th>\n",
       "      <th>Duration</th>\n",
       "      <th>Album</th>\n",
       "      <th>Popularity</th>\n",
       "    </tr>\n",
       "  </thead>\n",
       "  <tbody>\n",
       "    <tr>\n",
       "      <th>0</th>\n",
       "      <td>Blinding Lights</td>\n",
       "      <td>The Weeknd</td>\n",
       "      <td>Pop</td>\n",
       "      <td>2024-01-05</td>\n",
       "      <td>3:22</td>\n",
       "      <td>After Hours</td>\n",
       "      <td>95</td>\n",
       "    </tr>\n",
       "    <tr>\n",
       "      <th>1</th>\n",
       "      <td>Levitating</td>\n",
       "      <td>Dua Lipa</td>\n",
       "      <td>Pop</td>\n",
       "      <td>2024-01-14</td>\n",
       "      <td>3:23</td>\n",
       "      <td>Future Nostalgia</td>\n",
       "      <td>93</td>\n",
       "    </tr>\n",
       "    <tr>\n",
       "      <th>2</th>\n",
       "      <td>Peaches</td>\n",
       "      <td>Justin Bieber ft. Daniel Caesar &amp; Giveon</td>\n",
       "      <td>Pop</td>\n",
       "      <td>2024-02-12</td>\n",
       "      <td>3:18</td>\n",
       "      <td>Justice</td>\n",
       "      <td>91</td>\n",
       "    </tr>\n",
       "    <tr>\n",
       "      <th>3</th>\n",
       "      <td>Save Your Tears</td>\n",
       "      <td>The Weeknd</td>\n",
       "      <td>Pop</td>\n",
       "      <td>2024-02-18</td>\n",
       "      <td>3:36</td>\n",
       "      <td>After Hours</td>\n",
       "      <td>92</td>\n",
       "    </tr>\n",
       "    <tr>\n",
       "      <th>4</th>\n",
       "      <td>Good 4 U</td>\n",
       "      <td>Olivia Rodrigo</td>\n",
       "      <td>Pop</td>\n",
       "      <td>2024-03-05</td>\n",
       "      <td>2:58</td>\n",
       "      <td>SOUR</td>\n",
       "      <td>94</td>\n",
       "    </tr>\n",
       "  </tbody>\n",
       "</table>\n",
       "</div>"
      ],
      "text/plain": [
       "             Title                                    Artist Genre  \\\n",
       "0  Blinding Lights                                The Weeknd   Pop   \n",
       "1       Levitating                                  Dua Lipa   Pop   \n",
       "2          Peaches  Justin Bieber ft. Daniel Caesar & Giveon   Pop   \n",
       "3  Save Your Tears                                The Weeknd   Pop   \n",
       "4         Good 4 U                            Olivia Rodrigo   Pop   \n",
       "\n",
       "  ReleaseDate Duration             Album  Popularity  \n",
       "0  2024-01-05     3:22       After Hours          95  \n",
       "1  2024-01-14     3:23  Future Nostalgia          93  \n",
       "2  2024-02-12     3:18           Justice          91  \n",
       "3  2024-02-18     3:36       After Hours          92  \n",
       "4  2024-03-05     2:58              SOUR          94  "
      ]
     },
     "execution_count": 4,
     "metadata": {},
     "output_type": "execute_result"
    }
   ],
   "source": [
    "data.head()"
   ]
  },
  {
   "cell_type": "code",
   "execution_count": 5,
   "metadata": {},
   "outputs": [
    {
     "data": {
      "text/plain": [
       "0       Blinding Lights\n",
       "1            Levitating\n",
       "2               Peaches\n",
       "3       Save Your Tears\n",
       "4              Good 4 U\n",
       "            ...        \n",
       "95    Sunflower - Remix\n",
       "96             Mi Gente\n",
       "97            Taki Taki\n",
       "98         Loco Contigo\n",
       "99            Con Calma\n",
       "Name: Title, Length: 100, dtype: object"
      ]
     },
     "execution_count": 5,
     "metadata": {},
     "output_type": "execute_result"
    }
   ],
   "source": [
    "# 데이터 중 Title만 보고 싶을 떄 \n",
    "data['Title']"
   ]
  },
  {
   "cell_type": "code",
   "execution_count": 6,
   "metadata": {},
   "outputs": [
    {
     "name": "stdout",
     "output_type": "stream",
     "text": [
      "<class 'pandas.core.frame.DataFrame'>\n",
      "Int64Index: 100 entries, 0 to 99\n",
      "Data columns (total 7 columns):\n",
      " #   Column       Non-Null Count  Dtype \n",
      "---  ------       --------------  ----- \n",
      " 0   Title        100 non-null    object\n",
      " 1   Artist       100 non-null    object\n",
      " 2   Genre        100 non-null    object\n",
      " 3   ReleaseDate  100 non-null    object\n",
      " 4   Duration     100 non-null    object\n",
      " 5   Album        98 non-null     object\n",
      " 6   Popularity   100 non-null    int64 \n",
      "dtypes: int64(1), object(6)\n",
      "memory usage: 6.2+ KB\n"
     ]
    }
   ],
   "source": [
    "# 데이터 중 중복값이 있는지\n",
    "data = data.drop_duplicates()\n",
    "data.info()"
   ]
  },
  {
   "cell_type": "code",
   "execution_count": 7,
   "metadata": {},
   "outputs": [
    {
     "data": {
      "text/html": [
       "<div>\n",
       "<style scoped>\n",
       "    .dataframe tbody tr th:only-of-type {\n",
       "        vertical-align: middle;\n",
       "    }\n",
       "\n",
       "    .dataframe tbody tr th {\n",
       "        vertical-align: top;\n",
       "    }\n",
       "\n",
       "    .dataframe thead th {\n",
       "        text-align: right;\n",
       "    }\n",
       "</style>\n",
       "<table border=\"1\" class=\"dataframe\">\n",
       "  <thead>\n",
       "    <tr style=\"text-align: right;\">\n",
       "      <th></th>\n",
       "      <th>Title</th>\n",
       "      <th>Artist</th>\n",
       "      <th>Genre</th>\n",
       "      <th>ReleaseDate</th>\n",
       "      <th>Duration</th>\n",
       "      <th>Album</th>\n",
       "      <th>Popularity</th>\n",
       "    </tr>\n",
       "  </thead>\n",
       "  <tbody>\n",
       "    <tr>\n",
       "      <th>40</th>\n",
       "      <td>Stuck with U</td>\n",
       "      <td>Ariana Grande &amp; Justin Bieber</td>\n",
       "      <td>Pop</td>\n",
       "      <td>2024-03-10</td>\n",
       "      <td>3:48</td>\n",
       "      <td>NaN</td>\n",
       "      <td>86</td>\n",
       "    </tr>\n",
       "    <tr>\n",
       "      <th>56</th>\n",
       "      <td>Savage Love</td>\n",
       "      <td>Jawsh 685 &amp; Jason Derulo</td>\n",
       "      <td>Pop</td>\n",
       "      <td>2024-05-30</td>\n",
       "      <td>2:51</td>\n",
       "      <td>NaN</td>\n",
       "      <td>92</td>\n",
       "    </tr>\n",
       "  </tbody>\n",
       "</table>\n",
       "</div>"
      ],
      "text/plain": [
       "           Title                         Artist Genre ReleaseDate Duration  \\\n",
       "40  Stuck with U  Ariana Grande & Justin Bieber   Pop  2024-03-10     3:48   \n",
       "56   Savage Love       Jawsh 685 & Jason Derulo   Pop  2024-05-30     2:51   \n",
       "\n",
       "   Album  Popularity  \n",
       "40   NaN          86  \n",
       "56   NaN          92  "
      ]
     },
     "execution_count": 7,
     "metadata": {},
     "output_type": "execute_result"
    }
   ],
   "source": [
    "# 앨범에 있는 결측치 찾기 \n",
    "data[data.isna( ).any(axis=1)]"
   ]
  },
  {
   "cell_type": "code",
   "execution_count": 8,
   "metadata": {},
   "outputs": [],
   "source": [
    "# 결측치는 None으로 변경\n",
    "data = data.fillna(\"None\")"
   ]
  },
  {
   "cell_type": "code",
   "execution_count": 9,
   "metadata": {},
   "outputs": [
    {
     "name": "stdout",
     "output_type": "stream",
     "text": [
      "<class 'pandas.core.frame.DataFrame'>\n",
      "Int64Index: 100 entries, 0 to 99\n",
      "Data columns (total 7 columns):\n",
      " #   Column       Non-Null Count  Dtype \n",
      "---  ------       --------------  ----- \n",
      " 0   Title        100 non-null    object\n",
      " 1   Artist       100 non-null    object\n",
      " 2   Genre        100 non-null    object\n",
      " 3   ReleaseDate  100 non-null    object\n",
      " 4   Duration     100 non-null    object\n",
      " 5   Album        100 non-null    object\n",
      " 6   Popularity   100 non-null    int64 \n",
      "dtypes: int64(1), object(6)\n",
      "memory usage: 6.2+ KB\n"
     ]
    }
   ],
   "source": [
    "data.info()"
   ]
  },
  {
   "cell_type": "markdown",
   "metadata": {},
   "source": [
    "#### 1-1. 100개의 데이터 중 제일 많은 이름을 올린 가수는? "
   ]
  },
  {
   "cell_type": "code",
   "execution_count": 10,
   "metadata": {},
   "outputs": [
    {
     "name": "stdout",
     "output_type": "stream",
     "text": [
      "[('The Weeknd', 4), ('Billie Eilish', 4), ('Ariana Grande', 4), ('Drake', 4), ('Dua Lipa', 3), ('Olivia Rodrigo', 3), ('Lil Nas X', 3), ('BTS', 3), ('Post Malone', 3), ('The Kid LAROI & Justin Bieber', 2)]\n"
     ]
    }
   ],
   "source": [
    "counter = Counter(data['Artist'].tolist())\n",
    "top_artist = counter.most_common(10)\n",
    "print(top_artist)"
   ]
  },
  {
   "cell_type": "code",
   "execution_count": 11,
   "metadata": {},
   "outputs": [
    {
     "name": "stdout",
     "output_type": "stream",
     "text": [
      "['The Weeknd', 'Billie Eilish', 'Ariana Grande', 'Drake', 'Dua Lipa', 'Olivia Rodrigo', 'Lil Nas X', 'BTS', 'Post Malone', 'The Kid LAROI & Justin Bieber'] [4, 4, 4, 4, 3, 3, 3, 3, 3, 2]\n"
     ]
    }
   ],
   "source": [
    "X = []\n",
    "Y = []\n",
    "\n",
    "for artist, count in top_artist:\n",
    "    X.append(artist)\n",
    "    Y.append(count)\n",
    "\n",
    "print(X,Y)"
   ]
  },
  {
   "cell_type": "code",
   "execution_count": 12,
   "metadata": {},
   "outputs": [
    {
     "data": {
      "text/plain": [
       "([<matplotlib.axis.XTick at 0x130fd5f90>,\n",
       "  <matplotlib.axis.XTick at 0x130fd4210>,\n",
       "  <matplotlib.axis.XTick at 0x130f846d0>,\n",
       "  <matplotlib.axis.XTick at 0x131818d90>,\n",
       "  <matplotlib.axis.XTick at 0x13181b110>],\n",
       " [Text(1, 0, '1'),\n",
       "  Text(2, 0, '2'),\n",
       "  Text(3, 0, '3'),\n",
       "  Text(4, 0, '4'),\n",
       "  Text(5, 0, '5')])"
      ]
     },
     "execution_count": 12,
     "metadata": {},
     "output_type": "execute_result"
    },
    {
     "data": {
      "image/png": "[encoded data removed]",
      "text/plain": [
       "<Figure size 640x480 with 1 Axes>"
      ]
     },
     "metadata": {},
     "output_type": "display_data"
    }
   ],
   "source": [
    "plt.barh(X,Y)\n",
    "plt.xticks(range(1,6))"
   ]
  },
  {
   "cell_type": "markdown",
   "metadata": {},
   "source": [
    "#### 1-2. 제일 많은 장르 순으로 시각화"
   ]
  },
  {
   "cell_type": "code",
   "execution_count": 13,
   "metadata": {},
   "outputs": [
    {
     "name": "stdout",
     "output_type": "stream",
     "text": [
      "{'Pop': 59, 'K-Pop': 3, 'Afrobeats': 2, 'Country': 1, 'R&B': 3, 'Dance': 1, 'Hip-Hop': 26, 'Electronic': 1, 'Reggaeton': 4}\n"
     ]
    }
   ],
   "source": [
    "genre_dict = dict() \n",
    "\n",
    "for genre in data['Genre']:\n",
    "    if genre in genre_dict:\n",
    "        genre_dict[genre] += 1\n",
    "    else: \n",
    "        genre_dict[genre] = 1 \n",
    "\n",
    "print(genre_dict)"
   ]
  },
  {
   "cell_type": "code",
   "execution_count": 14,
   "metadata": {},
   "outputs": [],
   "source": [
    "genre_dict = sorted(genre_dict.items(), key = lambda x : x[1],reverse= True)"
   ]
  },
  {
   "cell_type": "code",
   "execution_count": 15,
   "metadata": {},
   "outputs": [
    {
     "data": {
      "text/plain": [
       "[('Pop', 59),\n",
       " ('Hip-Hop', 26),\n",
       " ('Reggaeton', 4),\n",
       " ('K-Pop', 3),\n",
       " ('R&B', 3),\n",
       " ('Afrobeats', 2),\n",
       " ('Country', 1),\n",
       " ('Dance', 1),\n",
       " ('Electronic', 1)]"
      ]
     },
     "execution_count": 15,
     "metadata": {},
     "output_type": "execute_result"
    }
   ],
   "source": [
    "genre_dict"
   ]
  },
  {
   "cell_type": "code",
   "execution_count": 16,
   "metadata": {},
   "outputs": [
    {
     "data": {
      "text/plain": [
       "([<matplotlib.patches.Wedge at 0x1318bbe90>,\n",
       "  <matplotlib.patches.Wedge at 0x1318dbbd0>,\n",
       "  <matplotlib.patches.Wedge at 0x1318edb10>,\n",
       "  <matplotlib.patches.Wedge at 0x1318ef7d0>,\n",
       "  <matplotlib.patches.Wedge at 0x1318fd3d0>,\n",
       "  <matplotlib.patches.Wedge at 0x1318ff290>,\n",
       "  <matplotlib.patches.Wedge at 0x131909110>,\n",
       "  <matplotlib.patches.Wedge at 0x13190aa50>,\n",
       "  <matplotlib.patches.Wedge at 0x1318fd4d0>],\n",
       " [Text(-1.0563230795297933, 0.3068901296110612, 'Pop'),\n",
       "  Text(1.080515935661083, 0.20611965646792366, 'Hip-Hop'),\n",
       "  Text(0.8018656614812494, -0.7530016340866987, 'Reggaeton'),\n",
       "  Text(0.6182919270980652, -0.909788487993424, 'K-Pop'),\n",
       "  Text(0.4368629185950908, -1.009529984872455, 'R&B'),\n",
       "  Text(0.27355913174990715, -1.0654414115455797, 'Afrobeats'),\n",
       "  Text(0.17207817474853218, -1.0864571329671566, 'Country'),\n",
       "  Text(0.10351941149083534, -1.0951181358395046, 'Dance'),\n",
       "  Text(0.03455210442776199, -1.0994572079347213, 'Electronic')],\n",
       " [Text(-0.576176225198069, 0.1673946161514879, '59%'),\n",
       "  Text(0.5893723285424087, 0.11242890352795834, '26%'),\n",
       "  Text(0.4373812698988632, -0.4107281640472902, '4%'),\n",
       "  Text(0.33725014205349013, -0.49624826617823126, '3%'),\n",
       "  Text(0.23828886468823132, -0.550652719021339, '3%'),\n",
       "  Text(0.1492140718635857, -0.5811498608430433, '2%'),\n",
       "  Text(0.09386082259010844, -0.592612981618449, '1%'),\n",
       "  Text(0.05646513354045563, -0.597337165003366, '1%'),\n",
       "  Text(0.018846602415142903, -0.5997039316007571, '1%')])"
      ]
     },
     "execution_count": 16,
     "metadata": {},
     "output_type": "execute_result"
    },
    {
     "data": {
      "image/png": "[encoded data removed]",
      "text/plain": [
       "<Figure size 1000x800 with 1 Axes>"
      ]
     },
     "metadata": {},
     "output_type": "display_data"
    }
   ],
   "source": [
    "X = []\n",
    "Y = [] \n",
    "\n",
    "for genre , count in genre_dict:\n",
    "    X.append(genre)\n",
    "    Y.append(count)\n",
    "\n",
    "\n",
    "plt.figure(figsize = (10, 8))\n",
    "plt.title(\"Billboard Top Genre\")\n",
    "plt.pie(Y,labels=X,autopct=\"%.f%%\",startangle = -90,counterclock = False)\n"
   ]
  },
  {
   "cell_type": "markdown",
   "metadata": {},
   "source": [
    "#### 1-3. The Weeknd 의 Popularity 추이 "
   ]
  },
  {
   "cell_type": "code",
   "execution_count": 17,
   "metadata": {},
   "outputs": [
    {
     "data": {
      "text/html": [
       "<div>\n",
       "<style scoped>\n",
       "    .dataframe tbody tr th:only-of-type {\n",
       "        vertical-align: middle;\n",
       "    }\n",
       "\n",
       "    .dataframe tbody tr th {\n",
       "        vertical-align: top;\n",
       "    }\n",
       "\n",
       "    .dataframe thead th {\n",
       "        text-align: right;\n",
       "    }\n",
       "</style>\n",
       "<table border=\"1\" class=\"dataframe\">\n",
       "  <thead>\n",
       "    <tr style=\"text-align: right;\">\n",
       "      <th></th>\n",
       "      <th>Title</th>\n",
       "      <th>Artist</th>\n",
       "      <th>Genre</th>\n",
       "      <th>ReleaseDate</th>\n",
       "      <th>Duration</th>\n",
       "      <th>Album</th>\n",
       "      <th>Popularity</th>\n",
       "    </tr>\n",
       "  </thead>\n",
       "  <tbody>\n",
       "    <tr>\n",
       "      <th>0</th>\n",
       "      <td>Blinding Lights</td>\n",
       "      <td>The Weeknd</td>\n",
       "      <td>Pop</td>\n",
       "      <td>2024-01-05</td>\n",
       "      <td>3:22</td>\n",
       "      <td>After Hours</td>\n",
       "      <td>95</td>\n",
       "    </tr>\n",
       "    <tr>\n",
       "      <th>3</th>\n",
       "      <td>Save Your Tears</td>\n",
       "      <td>The Weeknd</td>\n",
       "      <td>Pop</td>\n",
       "      <td>2024-02-18</td>\n",
       "      <td>3:36</td>\n",
       "      <td>After Hours</td>\n",
       "      <td>92</td>\n",
       "    </tr>\n",
       "    <tr>\n",
       "      <th>15</th>\n",
       "      <td>Take My Breath</td>\n",
       "      <td>The Weeknd</td>\n",
       "      <td>Pop</td>\n",
       "      <td>2024-08-01</td>\n",
       "      <td>3:40</td>\n",
       "      <td>Dawn FM</td>\n",
       "      <td>94</td>\n",
       "    </tr>\n",
       "    <tr>\n",
       "      <th>28</th>\n",
       "      <td>Die For You</td>\n",
       "      <td>The Weeknd</td>\n",
       "      <td>Pop</td>\n",
       "      <td>2024-01-10</td>\n",
       "      <td>3:56</td>\n",
       "      <td>Starboy</td>\n",
       "      <td>90</td>\n",
       "    </tr>\n",
       "  </tbody>\n",
       "</table>\n",
       "</div>"
      ],
      "text/plain": [
       "              Title      Artist Genre ReleaseDate Duration        Album  \\\n",
       "0   Blinding Lights  The Weeknd   Pop  2024-01-05     3:22  After Hours   \n",
       "3   Save Your Tears  The Weeknd   Pop  2024-02-18     3:36  After Hours   \n",
       "15   Take My Breath  The Weeknd   Pop  2024-08-01     3:40      Dawn FM   \n",
       "28      Die For You  The Weeknd   Pop  2024-01-10     3:56      Starboy   \n",
       "\n",
       "    Popularity  \n",
       "0           95  \n",
       "3           92  \n",
       "15          94  \n",
       "28          90  "
      ]
     },
     "execution_count": 17,
     "metadata": {},
     "output_type": "execute_result"
    }
   ],
   "source": [
    "# 가수의 이름이 The Weeknd 인 행만 추려온다 \n",
    "\n",
    "joomal = data.loc[data.Artist == \"The Weeknd\"]\n",
    "joomal"
   ]
  },
  {
   "cell_type": "code",
   "execution_count": 18,
   "metadata": {},
   "outputs": [
    {
     "data": {
      "text/plain": [
       "([<matplotlib.axis.YTick at 0x13192e8d0>,\n",
       "  <matplotlib.axis.YTick at 0x13192d350>,\n",
       "  <matplotlib.axis.YTick at 0x131824850>,\n",
       "  <matplotlib.axis.YTick at 0x131961790>,\n",
       "  <matplotlib.axis.YTick at 0x131963bd0>,\n",
       "  <matplotlib.axis.YTick at 0x13196a050>,\n",
       "  <matplotlib.axis.YTick at 0x131850b90>,\n",
       "  <matplotlib.axis.YTick at 0x13196d310>,\n",
       "  <matplotlib.axis.YTick at 0x13196f610>,\n",
       "  <matplotlib.axis.YTick at 0x131975810>,\n",
       "  <matplotlib.axis.YTick at 0x131977a90>],\n",
       " [Text(0, 90, '90'),\n",
       "  Text(0, 91, '91'),\n",
       "  Text(0, 92, '92'),\n",
       "  Text(0, 93, '93'),\n",
       "  Text(0, 94, '94'),\n",
       "  Text(0, 95, '95'),\n",
       "  Text(0, 96, '96'),\n",
       "  Text(0, 97, '97'),\n",
       "  Text(0, 98, '98'),\n",
       "  Text(0, 99, '99'),\n",
       "  Text(0, 100, '100')])"
      ]
     },
     "execution_count": 18,
     "metadata": {},
     "output_type": "execute_result"
    },
    {
     "data": {
      "image/png": "[encoded data removed]",
      "text/plain": [
       "<Figure size 640x480 with 1 Axes>"
      ]
     },
     "metadata": {},
     "output_type": "display_data"
    }
   ],
   "source": [
    "plt.plot(joomal['Title'], joomal['Popularity'])\n",
    "plt.yticks(range(90,101))"
   ]
  },
  {
   "cell_type": "code",
   "execution_count": 19,
   "metadata": {},
   "outputs": [
    {
     "data": {
      "text/html": [
       "<div>\n",
       "<style scoped>\n",
       "    .dataframe tbody tr th:only-of-type {\n",
       "        vertical-align: middle;\n",
       "    }\n",
       "\n",
       "    .dataframe tbody tr th {\n",
       "        vertical-align: top;\n",
       "    }\n",
       "\n",
       "    .dataframe thead th {\n",
       "        text-align: right;\n",
       "    }\n",
       "</style>\n",
       "<table border=\"1\" class=\"dataframe\">\n",
       "  <thead>\n",
       "    <tr style=\"text-align: right;\">\n",
       "      <th></th>\n",
       "      <th>Title</th>\n",
       "      <th>Artist</th>\n",
       "      <th>Genre</th>\n",
       "      <th>ReleaseDate</th>\n",
       "      <th>Duration</th>\n",
       "      <th>Album</th>\n",
       "      <th>Popularity</th>\n",
       "    </tr>\n",
       "  </thead>\n",
       "  <tbody>\n",
       "    <tr>\n",
       "      <th>44</th>\n",
       "      <td>What's Next</td>\n",
       "      <td>Drake</td>\n",
       "      <td>Hip-Hop</td>\n",
       "      <td>2024-04-01</td>\n",
       "      <td>2:58</td>\n",
       "      <td>Scary Hours 2</td>\n",
       "      <td>88</td>\n",
       "    </tr>\n",
       "    <tr>\n",
       "      <th>76</th>\n",
       "      <td>Nice for What</td>\n",
       "      <td>Drake</td>\n",
       "      <td>Hip-Hop</td>\n",
       "      <td>2024-09-10</td>\n",
       "      <td>3:30</td>\n",
       "      <td>Scorpion</td>\n",
       "      <td>94</td>\n",
       "    </tr>\n",
       "    <tr>\n",
       "      <th>88</th>\n",
       "      <td>In My Feelings</td>\n",
       "      <td>Drake</td>\n",
       "      <td>Hip-Hop</td>\n",
       "      <td>2024-11-05</td>\n",
       "      <td>3:37</td>\n",
       "      <td>Scorpion</td>\n",
       "      <td>92</td>\n",
       "    </tr>\n",
       "    <tr>\n",
       "      <th>93</th>\n",
       "      <td>Nice for What - Remix</td>\n",
       "      <td>Drake</td>\n",
       "      <td>Hip-Hop</td>\n",
       "      <td>2024-12-01</td>\n",
       "      <td>3:31</td>\n",
       "      <td>Scorpion</td>\n",
       "      <td>91</td>\n",
       "    </tr>\n",
       "  </tbody>\n",
       "</table>\n",
       "</div>"
      ],
      "text/plain": [
       "                    Title Artist    Genre ReleaseDate Duration          Album  \\\n",
       "44            What's Next  Drake  Hip-Hop  2024-04-01     2:58  Scary Hours 2   \n",
       "76          Nice for What  Drake  Hip-Hop  2024-09-10     3:30       Scorpion   \n",
       "88         In My Feelings  Drake  Hip-Hop  2024-11-05     3:37       Scorpion   \n",
       "93  Nice for What - Remix  Drake  Hip-Hop  2024-12-01     3:31       Scorpion   \n",
       "\n",
       "    Popularity  \n",
       "44          88  \n",
       "76          94  \n",
       "88          92  \n",
       "93          91  "
      ]
     },
     "execution_count": 19,
     "metadata": {},
     "output_type": "execute_result"
    }
   ],
   "source": [
    "drake = data.loc[data.Artist == \"Drake\"]\n",
    "drake"
   ]
  },
  {
   "cell_type": "code",
   "execution_count": 20,
   "metadata": {},
   "outputs": [
    {
     "data": {
      "text/plain": [
       "<matplotlib.legend.Legend at 0x131969250>"
      ]
     },
     "execution_count": 20,
     "metadata": {},
     "output_type": "execute_result"
    },
    {
     "data": {
      "image/png": "[encoded data removed]",
      "text/plain": [
       "<Figure size 640x480 with 1 Axes>"
      ]
     },
     "metadata": {},
     "output_type": "display_data"
    }
   ],
   "source": [
    "X = len(joomal)\n",
    "plt.plot(range(X), joomal['Popularity'])\n",
    "plt.plot(range(X),drake['Popularity'])\n",
    "plt.yticks(range(88,101))\n",
    "plt.xticks(range(0,4))\n",
    "plt.legend(['The Weeknd', \"Drake\"])"
   ]
  },
  {
   "cell_type": "markdown",
   "metadata": {},
   "source": [
    "#### 1-4. 아티스트와 인기도의 상관관계 \n",
    "- 아티스트는 문자열이고 인기도는 숫자임. \n",
    "- 아티스트를 숫자로 표시할 방법은 없을까? + 숫자에 의미를 담을 방법 -> count 로 하면 될 것 같은데 feat 랑 & 구별해서 다시 저장해야함"
   ]
  },
  {
   "cell_type": "code",
   "execution_count": 21,
   "metadata": {},
   "outputs": [],
   "source": [
    "counter = Counter(data['Artist'].tolist())"
   ]
  },
  {
   "cell_type": "markdown",
   "metadata": {},
   "source": [
    "노래 길이와 인기도의 상관관계 \n",
    "- 노래가 짧으면 인기도 높다"
   ]
  },
  {
   "cell_type": "code",
   "execution_count": 22,
   "metadata": {},
   "outputs": [],
   "source": [
    "LEN = len(data)\n",
    "\n",
    "new_dur = [] \n",
    "for i in range(LEN): \n",
    "    dur = data['Duration'][i]\n",
    "    min , sec = dur.split(\":\")\n",
    "    min = int(min)\n",
    "    if int(sec) >= 30 :\n",
    "        min += 1 \n",
    "\n",
    "    new_dur.append(min)\n",
    "\n",
    "new_dur = pd.DataFrame(new_dur)"
   ]
  },
  {
   "cell_type": "code",
   "execution_count": 23,
   "metadata": {},
   "outputs": [
    {
     "data": {
      "text/html": [
       "<div>\n",
       "<style scoped>\n",
       "    .dataframe tbody tr th:only-of-type {\n",
       "        vertical-align: middle;\n",
       "    }\n",
       "\n",
       "    .dataframe tbody tr th {\n",
       "        vertical-align: top;\n",
       "    }\n",
       "\n",
       "    .dataframe thead th {\n",
       "        text-align: right;\n",
       "    }\n",
       "</style>\n",
       "<table border=\"1\" class=\"dataframe\">\n",
       "  <thead>\n",
       "    <tr style=\"text-align: right;\">\n",
       "      <th></th>\n",
       "      <th>Title</th>\n",
       "      <th>Artist</th>\n",
       "      <th>Genre</th>\n",
       "      <th>ReleaseDate</th>\n",
       "      <th>Duration</th>\n",
       "      <th>Album</th>\n",
       "      <th>Popularity</th>\n",
       "      <th>0</th>\n",
       "    </tr>\n",
       "  </thead>\n",
       "  <tbody>\n",
       "    <tr>\n",
       "      <th>0</th>\n",
       "      <td>Blinding Lights</td>\n",
       "      <td>The Weeknd</td>\n",
       "      <td>Pop</td>\n",
       "      <td>2024-01-05</td>\n",
       "      <td>3:22</td>\n",
       "      <td>After Hours</td>\n",
       "      <td>95</td>\n",
       "      <td>3</td>\n",
       "    </tr>\n",
       "    <tr>\n",
       "      <th>1</th>\n",
       "      <td>Levitating</td>\n",
       "      <td>Dua Lipa</td>\n",
       "      <td>Pop</td>\n",
       "      <td>2024-01-14</td>\n",
       "      <td>3:23</td>\n",
       "      <td>Future Nostalgia</td>\n",
       "      <td>93</td>\n",
       "      <td>3</td>\n",
       "    </tr>\n",
       "    <tr>\n",
       "      <th>2</th>\n",
       "      <td>Peaches</td>\n",
       "      <td>Justin Bieber ft. Daniel Caesar &amp; Giveon</td>\n",
       "      <td>Pop</td>\n",
       "      <td>2024-02-12</td>\n",
       "      <td>3:18</td>\n",
       "      <td>Justice</td>\n",
       "      <td>91</td>\n",
       "      <td>3</td>\n",
       "    </tr>\n",
       "    <tr>\n",
       "      <th>3</th>\n",
       "      <td>Save Your Tears</td>\n",
       "      <td>The Weeknd</td>\n",
       "      <td>Pop</td>\n",
       "      <td>2024-02-18</td>\n",
       "      <td>3:36</td>\n",
       "      <td>After Hours</td>\n",
       "      <td>92</td>\n",
       "      <td>4</td>\n",
       "    </tr>\n",
       "    <tr>\n",
       "      <th>4</th>\n",
       "      <td>Good 4 U</td>\n",
       "      <td>Olivia Rodrigo</td>\n",
       "      <td>Pop</td>\n",
       "      <td>2024-03-05</td>\n",
       "      <td>2:58</td>\n",
       "      <td>SOUR</td>\n",
       "      <td>94</td>\n",
       "      <td>3</td>\n",
       "    </tr>\n",
       "    <tr>\n",
       "      <th>...</th>\n",
       "      <td>...</td>\n",
       "      <td>...</td>\n",
       "      <td>...</td>\n",
       "      <td>...</td>\n",
       "      <td>...</td>\n",
       "      <td>...</td>\n",
       "      <td>...</td>\n",
       "      <td>...</td>\n",
       "    </tr>\n",
       "    <tr>\n",
       "      <th>95</th>\n",
       "      <td>Sunflower - Remix</td>\n",
       "      <td>Post Malone &amp; Swae Lee</td>\n",
       "      <td>Hip-Hop</td>\n",
       "      <td>2024-12-15</td>\n",
       "      <td>2:39</td>\n",
       "      <td>Hollywood's Bleeding</td>\n",
       "      <td>88</td>\n",
       "      <td>3</td>\n",
       "    </tr>\n",
       "    <tr>\n",
       "      <th>96</th>\n",
       "      <td>Mi Gente</td>\n",
       "      <td>J Balvin &amp; Willy William</td>\n",
       "      <td>Reggaeton</td>\n",
       "      <td>2024-12-20</td>\n",
       "      <td>3:06</td>\n",
       "      <td>Vibras</td>\n",
       "      <td>93</td>\n",
       "      <td>3</td>\n",
       "    </tr>\n",
       "    <tr>\n",
       "      <th>97</th>\n",
       "      <td>Taki Taki</td>\n",
       "      <td>DJ Snake ft. Selena Gomez &amp; Ozuna &amp; Cardi B</td>\n",
       "      <td>Reggaeton</td>\n",
       "      <td>2024-12-25</td>\n",
       "      <td>3:32</td>\n",
       "      <td>Carte Blanche</td>\n",
       "      <td>91</td>\n",
       "      <td>4</td>\n",
       "    </tr>\n",
       "    <tr>\n",
       "      <th>98</th>\n",
       "      <td>Loco Contigo</td>\n",
       "      <td>DJ Snake ft. J Balvin &amp; Tyga</td>\n",
       "      <td>Reggaeton</td>\n",
       "      <td>2025-01-01</td>\n",
       "      <td>3:05</td>\n",
       "      <td>Carte Blanche</td>\n",
       "      <td>89</td>\n",
       "      <td>3</td>\n",
       "    </tr>\n",
       "    <tr>\n",
       "      <th>99</th>\n",
       "      <td>Con Calma</td>\n",
       "      <td>Daddy Yankee &amp; Snow</td>\n",
       "      <td>Reggaeton</td>\n",
       "      <td>2025-01-05</td>\n",
       "      <td>3:13</td>\n",
       "      <td>Con Calma</td>\n",
       "      <td>90</td>\n",
       "      <td>3</td>\n",
       "    </tr>\n",
       "  </tbody>\n",
       "</table>\n",
       "<p>100 rows × 8 columns</p>\n",
       "</div>"
      ],
      "text/plain": [
       "                Title                                       Artist      Genre  \\\n",
       "0     Blinding Lights                                   The Weeknd        Pop   \n",
       "1          Levitating                                     Dua Lipa        Pop   \n",
       "2             Peaches     Justin Bieber ft. Daniel Caesar & Giveon        Pop   \n",
       "3     Save Your Tears                                   The Weeknd        Pop   \n",
       "4            Good 4 U                               Olivia Rodrigo        Pop   \n",
       "..                ...                                          ...        ...   \n",
       "95  Sunflower - Remix                       Post Malone & Swae Lee    Hip-Hop   \n",
       "96           Mi Gente                     J Balvin & Willy William  Reggaeton   \n",
       "97          Taki Taki  DJ Snake ft. Selena Gomez & Ozuna & Cardi B  Reggaeton   \n",
       "98       Loco Contigo                 DJ Snake ft. J Balvin & Tyga  Reggaeton   \n",
       "99          Con Calma                          Daddy Yankee & Snow  Reggaeton   \n",
       "\n",
       "   ReleaseDate Duration                 Album  Popularity  0  \n",
       "0   2024-01-05     3:22           After Hours          95  3  \n",
       "1   2024-01-14     3:23      Future Nostalgia          93  3  \n",
       "2   2024-02-12     3:18               Justice          91  3  \n",
       "3   2024-02-18     3:36           After Hours          92  4  \n",
       "4   2024-03-05     2:58                  SOUR          94  3  \n",
       "..         ...      ...                   ...         ... ..  \n",
       "95  2024-12-15     2:39  Hollywood's Bleeding          88  3  \n",
       "96  2024-12-20     3:06                Vibras          93  3  \n",
       "97  2024-12-25     3:32         Carte Blanche          91  4  \n",
       "98  2025-01-01     3:05         Carte Blanche          89  3  \n",
       "99  2025-01-05     3:13             Con Calma          90  3  \n",
       "\n",
       "[100 rows x 8 columns]"
      ]
     },
     "execution_count": 23,
     "metadata": {},
     "output_type": "execute_result"
    }
   ],
   "source": [
    "data = pd.concat([data, new_dur], axis = 1)\n",
    "data"
   ]
  },
  {
   "cell_type": "code",
   "execution_count": 24,
   "metadata": {},
   "outputs": [],
   "source": [
    "data.rename(columns= {'0':'new_dur'},inplace= True)"
   ]
  },
  {
   "cell_type": "code",
   "execution_count": 25,
   "metadata": {},
   "outputs": [],
   "source": [
    "subdata = data.iloc[: , 6:]"
   ]
  },
  {
   "cell_type": "code",
   "execution_count": 26,
   "metadata": {},
   "outputs": [
    {
     "data": {
      "text/plain": [
       "<matplotlib.image.AxesImage at 0x131a1cc50>"
      ]
     },
     "execution_count": 26,
     "metadata": {},
     "output_type": "execute_result"
    },
    {
     "data": {
      "image/png": "[encoded data removed]",
      "text/plain": [
       "<Figure size 1000x500 with 1 Axes>"
      ]
     },
     "metadata": {},
     "output_type": "display_data"
    }
   ],
   "source": [
    "fig = plt.figure(figsize = (10, 5))\n",
    "ax = fig.add_subplot()\n",
    "ax.imshow(subdata.corr(), cmap = 'viridis', interpolation = 'nearest')\n",
    "#흠.."
   ]
  },
  {
   "cell_type": "markdown",
   "metadata": {},
   "source": [
    "### 2. 노름\n",
    " **벡터의 노름은 데이터를 정제하는 방법 중 정규화(Normalization), 규제(Regularization) 등에서 유용하게 쓰여진다.**\n",
    " **벡터의 노름의 구조와 개념에 대해 더 자세히 알아보고 머신러닝 분야에서 어떻게 쓰이는지 자세히 알아보자. 또한, L1 노름과 L2 노름이 머신러닝 분야에서 어떤 차이점을 가지고 사용되는지에 대해 비교 분석해보자.**\n",
    "\n",
    " **노름(Norm) 이란?** \n",
    " \n",
    "![nn](norm.png)\n",
    "- 벡터의 크기 또는 길이를 측정하는 함수임\n",
    "- Norm이 측정한 벡터의 크기는 원점에서 벡터 좌표까지의 거리\n",
    "- 머신러닝에서 과적합 문제를 해결하기 위한 방법으로 쓰임 -> 정규화 \n",
    "- p 는 노름의 차수를 말한다 p = 1 이면 L1 노름이 되고 p = 2이면 L2 노름이 된다. \n",
    "\n",
    "**L1 Norm**\n",
    "\n",
    "![nn](norm1.png)\n",
    "- L1 노름은 p의 값이 1인 노름\n",
    "- 벡터 요소의 절댓값의 합  -> 요소의 값 변화를 정확히 파악 가능\n",
    "- L1 정규화에 활용됨 \n",
    "\n",
    "**L2 Norm** \n",
    "\n",
    "![nn](norm2.png)\n",
    "- L2 노름은 p의 값이 2인 노름 \n",
    "- L2 Norm은 n 차원 좌표평면(유클리드 공간)에서의 벡터의 크기를 계산하기 때문에 유클리드 노름(Euclidean norm)이라고도 한다.\n",
    "- L2 정규화, KNN 이나 K-mens 알고리즘 같이 거리를 비교해서 클래스를 분류하는 문제에도 사용됨 \n",
    "\n",
    "\n",
    "\n",
    "[참고]\n",
    "- https://yhyun225.tistory.com/18\n",
    "- http://taewan.kim/post/norm/"
   ]
  },
  {
   "cell_type": "markdown",
   "metadata": {},
   "source": []
  }
 ],
 "metadata": {
  "kernelspec": {
   "display_name": "Python 3",
   "language": "python",
   "name": "python3"
  },
  "language_info": {
   "codemirror_mode": {
    "name": "ipython",
    "version": 3
   },
   "file_extension": ".py",
   "mimetype": "text/x-python",
   "name": "python",
   "nbconvert_exporter": "python",
   "pygments_lexer": "ipython3",
   "version": "3.11.2"
  }
 },
 "nbformat": 4,
 "nbformat_minor": 2
}
